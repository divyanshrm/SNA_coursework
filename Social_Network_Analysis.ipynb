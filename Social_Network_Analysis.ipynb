{
  "nbformat": 4,
  "nbformat_minor": 0,
  "metadata": {
    "colab": {
      "name": "Social Network Analysis.ipynb",
      "provenance": [],
      "collapsed_sections": []
    },
    "kernelspec": {
      "name": "python3",
      "display_name": "Python 3"
    }
  },
  "cells": [
    {
      "cell_type": "code",
      "metadata": {
        "id": "TAc85tAFC8ah"
      },
      "source": [
        "import networkx as nx\n",
        "import math\n",
        "import sys\n",
        "import pandas as pd\n",
        "import numpy as np"
      ],
      "execution_count": 4,
      "outputs": []
    },
    {
      "cell_type": "code",
      "metadata": {
        "id": "_lnhDuzz4SgS"
      },
      "source": [
        "df_1 = pd.read_csv(\"/content/facebook.csv\", header=None, names=[\"source\", \"target\"])\n",
        "df_2 = pd.read_csv(\"/content/lastfm_asia_edges.csv\", header=0, names=[\"source\", \"target\"])"
      ],
      "execution_count": 88,
      "outputs": []
    },
    {
      "cell_type": "markdown",
      "metadata": {
        "id": "23um6HvHyyI1"
      },
      "source": [
        "**Exploring Our Dataset**"
      ]
    },
    {
      "cell_type": "code",
      "metadata": {
        "id": "CalO3lxiacgl",
        "colab": {
          "base_uri": "https://localhost:8080/"
        },
        "outputId": "b3f461d5-bf45-4296-9764-8ec24952dfb3"
      },
      "source": [
        "df_1.shape"
      ],
      "execution_count": 89,
      "outputs": [
        {
          "output_type": "execute_result",
          "data": {
            "text/plain": [
              "(88234, 2)"
            ]
          },
          "metadata": {
            "tags": []
          },
          "execution_count": 89
        }
      ]
    },
    {
      "cell_type": "code",
      "metadata": {
        "colab": {
          "base_uri": "https://localhost:8080/"
        },
        "id": "1hxYYGw5u_PB",
        "outputId": "c02ccc4a-4505-4fab-ed75-31980e5bf638"
      },
      "source": [
        "df_2.shape"
      ],
      "execution_count": 90,
      "outputs": [
        {
          "output_type": "execute_result",
          "data": {
            "text/plain": [
              "(27806, 2)"
            ]
          },
          "metadata": {
            "tags": []
          },
          "execution_count": 90
        }
      ]
    },
    {
      "cell_type": "code",
      "metadata": {
        "colab": {
          "base_uri": "https://localhost:8080/",
          "height": 204
        },
        "id": "YWgSwiwiyvPt",
        "outputId": "eabc7b67-945a-4293-b372-5a03a95de53a"
      },
      "source": [
        "df_1.head()"
      ],
      "execution_count": 91,
      "outputs": [
        {
          "output_type": "execute_result",
          "data": {
            "text/html": [
              "<div>\n",
              "<style scoped>\n",
              "    .dataframe tbody tr th:only-of-type {\n",
              "        vertical-align: middle;\n",
              "    }\n",
              "\n",
              "    .dataframe tbody tr th {\n",
              "        vertical-align: top;\n",
              "    }\n",
              "\n",
              "    .dataframe thead th {\n",
              "        text-align: right;\n",
              "    }\n",
              "</style>\n",
              "<table border=\"1\" class=\"dataframe\">\n",
              "  <thead>\n",
              "    <tr style=\"text-align: right;\">\n",
              "      <th></th>\n",
              "      <th>source</th>\n",
              "      <th>target</th>\n",
              "    </tr>\n",
              "  </thead>\n",
              "  <tbody>\n",
              "    <tr>\n",
              "      <th>0</th>\n",
              "      <td>0</td>\n",
              "      <td>1</td>\n",
              "    </tr>\n",
              "    <tr>\n",
              "      <th>1</th>\n",
              "      <td>0</td>\n",
              "      <td>2</td>\n",
              "    </tr>\n",
              "    <tr>\n",
              "      <th>2</th>\n",
              "      <td>0</td>\n",
              "      <td>3</td>\n",
              "    </tr>\n",
              "    <tr>\n",
              "      <th>3</th>\n",
              "      <td>0</td>\n",
              "      <td>4</td>\n",
              "    </tr>\n",
              "    <tr>\n",
              "      <th>4</th>\n",
              "      <td>0</td>\n",
              "      <td>5</td>\n",
              "    </tr>\n",
              "  </tbody>\n",
              "</table>\n",
              "</div>"
            ],
            "text/plain": [
              "   source  target\n",
              "0       0       1\n",
              "1       0       2\n",
              "2       0       3\n",
              "3       0       4\n",
              "4       0       5"
            ]
          },
          "metadata": {
            "tags": []
          },
          "execution_count": 91
        }
      ]
    },
    {
      "cell_type": "code",
      "metadata": {
        "colab": {
          "base_uri": "https://localhost:8080/",
          "height": 204
        },
        "id": "hFUQLNsZvH9k",
        "outputId": "4f71af21-1fcf-49dc-f530-e7170fe1e088"
      },
      "source": [
        "df_2.head()"
      ],
      "execution_count": 92,
      "outputs": [
        {
          "output_type": "execute_result",
          "data": {
            "text/html": [
              "<div>\n",
              "<style scoped>\n",
              "    .dataframe tbody tr th:only-of-type {\n",
              "        vertical-align: middle;\n",
              "    }\n",
              "\n",
              "    .dataframe tbody tr th {\n",
              "        vertical-align: top;\n",
              "    }\n",
              "\n",
              "    .dataframe thead th {\n",
              "        text-align: right;\n",
              "    }\n",
              "</style>\n",
              "<table border=\"1\" class=\"dataframe\">\n",
              "  <thead>\n",
              "    <tr style=\"text-align: right;\">\n",
              "      <th></th>\n",
              "      <th>source</th>\n",
              "      <th>target</th>\n",
              "    </tr>\n",
              "  </thead>\n",
              "  <tbody>\n",
              "    <tr>\n",
              "      <th>0</th>\n",
              "      <td>0</td>\n",
              "      <td>747</td>\n",
              "    </tr>\n",
              "    <tr>\n",
              "      <th>1</th>\n",
              "      <td>1</td>\n",
              "      <td>4257</td>\n",
              "    </tr>\n",
              "    <tr>\n",
              "      <th>2</th>\n",
              "      <td>1</td>\n",
              "      <td>2194</td>\n",
              "    </tr>\n",
              "    <tr>\n",
              "      <th>3</th>\n",
              "      <td>1</td>\n",
              "      <td>580</td>\n",
              "    </tr>\n",
              "    <tr>\n",
              "      <th>4</th>\n",
              "      <td>1</td>\n",
              "      <td>6478</td>\n",
              "    </tr>\n",
              "  </tbody>\n",
              "</table>\n",
              "</div>"
            ],
            "text/plain": [
              "   source  target\n",
              "0       0     747\n",
              "1       1    4257\n",
              "2       1    2194\n",
              "3       1     580\n",
              "4       1    6478"
            ]
          },
          "metadata": {
            "tags": []
          },
          "execution_count": 92
        }
      ]
    },
    {
      "cell_type": "markdown",
      "metadata": {
        "id": "JFh3j9824usH"
      },
      "source": [
        "Let's have a quick sneak peak of how our dataset values range like?"
      ]
    },
    {
      "cell_type": "code",
      "metadata": {
        "colab": {
          "base_uri": "https://localhost:8080/",
          "height": 297
        },
        "id": "Ebb8i-cr0pt4",
        "outputId": "9fdc12d8-2434-4943-b341-6dcb2081fe80"
      },
      "source": [
        "df_1.describe()"
      ],
      "execution_count": 93,
      "outputs": [
        {
          "output_type": "execute_result",
          "data": {
            "text/html": [
              "<div>\n",
              "<style scoped>\n",
              "    .dataframe tbody tr th:only-of-type {\n",
              "        vertical-align: middle;\n",
              "    }\n",
              "\n",
              "    .dataframe tbody tr th {\n",
              "        vertical-align: top;\n",
              "    }\n",
              "\n",
              "    .dataframe thead th {\n",
              "        text-align: right;\n",
              "    }\n",
              "</style>\n",
              "<table border=\"1\" class=\"dataframe\">\n",
              "  <thead>\n",
              "    <tr style=\"text-align: right;\">\n",
              "      <th></th>\n",
              "      <th>source</th>\n",
              "      <th>target</th>\n",
              "    </tr>\n",
              "  </thead>\n",
              "  <tbody>\n",
              "    <tr>\n",
              "      <th>count</th>\n",
              "      <td>88234.000000</td>\n",
              "      <td>88234.000000</td>\n",
              "    </tr>\n",
              "    <tr>\n",
              "      <th>mean</th>\n",
              "      <td>1864.781773</td>\n",
              "      <td>2154.199130</td>\n",
              "    </tr>\n",
              "    <tr>\n",
              "      <th>std</th>\n",
              "      <td>910.292292</td>\n",
              "      <td>893.709532</td>\n",
              "    </tr>\n",
              "    <tr>\n",
              "      <th>min</th>\n",
              "      <td>0.000000</td>\n",
              "      <td>1.000000</td>\n",
              "    </tr>\n",
              "    <tr>\n",
              "      <th>25%</th>\n",
              "      <td>1160.000000</td>\n",
              "      <td>1600.000000</td>\n",
              "    </tr>\n",
              "    <tr>\n",
              "      <th>50%</th>\n",
              "      <td>1983.000000</td>\n",
              "      <td>2259.000000</td>\n",
              "    </tr>\n",
              "    <tr>\n",
              "      <th>75%</th>\n",
              "      <td>2423.000000</td>\n",
              "      <td>2631.000000</td>\n",
              "    </tr>\n",
              "    <tr>\n",
              "      <th>max</th>\n",
              "      <td>4031.000000</td>\n",
              "      <td>4038.000000</td>\n",
              "    </tr>\n",
              "  </tbody>\n",
              "</table>\n",
              "</div>"
            ],
            "text/plain": [
              "             source        target\n",
              "count  88234.000000  88234.000000\n",
              "mean    1864.781773   2154.199130\n",
              "std      910.292292    893.709532\n",
              "min        0.000000      1.000000\n",
              "25%     1160.000000   1600.000000\n",
              "50%     1983.000000   2259.000000\n",
              "75%     2423.000000   2631.000000\n",
              "max     4031.000000   4038.000000"
            ]
          },
          "metadata": {
            "tags": []
          },
          "execution_count": 93
        }
      ]
    },
    {
      "cell_type": "code",
      "metadata": {
        "colab": {
          "base_uri": "https://localhost:8080/",
          "height": 297
        },
        "id": "38yRltnZvOjh",
        "outputId": "313f2985-8197-45ca-f5ca-85e0ab29853d"
      },
      "source": [
        "df_2.describe()"
      ],
      "execution_count": 94,
      "outputs": [
        {
          "output_type": "execute_result",
          "data": {
            "text/html": [
              "<div>\n",
              "<style scoped>\n",
              "    .dataframe tbody tr th:only-of-type {\n",
              "        vertical-align: middle;\n",
              "    }\n",
              "\n",
              "    .dataframe tbody tr th {\n",
              "        vertical-align: top;\n",
              "    }\n",
              "\n",
              "    .dataframe thead th {\n",
              "        text-align: right;\n",
              "    }\n",
              "</style>\n",
              "<table border=\"1\" class=\"dataframe\">\n",
              "  <thead>\n",
              "    <tr style=\"text-align: right;\">\n",
              "      <th></th>\n",
              "      <th>source</th>\n",
              "      <th>target</th>\n",
              "    </tr>\n",
              "  </thead>\n",
              "  <tbody>\n",
              "    <tr>\n",
              "      <th>count</th>\n",
              "      <td>27806.000000</td>\n",
              "      <td>27806.000000</td>\n",
              "    </tr>\n",
              "    <tr>\n",
              "      <th>mean</th>\n",
              "      <td>2540.629073</td>\n",
              "      <td>5050.508523</td>\n",
              "    </tr>\n",
              "    <tr>\n",
              "      <th>std</th>\n",
              "      <td>1760.146912</td>\n",
              "      <td>1784.037694</td>\n",
              "    </tr>\n",
              "    <tr>\n",
              "      <th>min</th>\n",
              "      <td>0.000000</td>\n",
              "      <td>6.000000</td>\n",
              "    </tr>\n",
              "    <tr>\n",
              "      <th>25%</th>\n",
              "      <td>1065.000000</td>\n",
              "      <td>3715.000000</td>\n",
              "    </tr>\n",
              "    <tr>\n",
              "      <th>50%</th>\n",
              "      <td>2233.000000</td>\n",
              "      <td>5351.500000</td>\n",
              "    </tr>\n",
              "    <tr>\n",
              "      <th>75%</th>\n",
              "      <td>3738.000000</td>\n",
              "      <td>6538.000000</td>\n",
              "    </tr>\n",
              "    <tr>\n",
              "      <th>max</th>\n",
              "      <td>7580.000000</td>\n",
              "      <td>7623.000000</td>\n",
              "    </tr>\n",
              "  </tbody>\n",
              "</table>\n",
              "</div>"
            ],
            "text/plain": [
              "             source        target\n",
              "count  27806.000000  27806.000000\n",
              "mean    2540.629073   5050.508523\n",
              "std     1760.146912   1784.037694\n",
              "min        0.000000      6.000000\n",
              "25%     1065.000000   3715.000000\n",
              "50%     2233.000000   5351.500000\n",
              "75%     3738.000000   6538.000000\n",
              "max     7580.000000   7623.000000"
            ]
          },
          "metadata": {
            "tags": []
          },
          "execution_count": 94
        }
      ]
    },
    {
      "cell_type": "code",
      "metadata": {
        "colab": {
          "base_uri": "https://localhost:8080/"
        },
        "id": "Ou6lxsHh0sS2",
        "outputId": "16a26ab2-811b-4104-82ad-8f275adc009d"
      },
      "source": [
        "df_1.isnull().any()"
      ],
      "execution_count": 95,
      "outputs": [
        {
          "output_type": "execute_result",
          "data": {
            "text/plain": [
              "source    False\n",
              "target    False\n",
              "dtype: bool"
            ]
          },
          "metadata": {
            "tags": []
          },
          "execution_count": 95
        }
      ]
    },
    {
      "cell_type": "code",
      "metadata": {
        "colab": {
          "base_uri": "https://localhost:8080/"
        },
        "id": "v76DzImNvi7c",
        "outputId": "b7a3aa37-c468-42db-9fca-3e59fcf6f964"
      },
      "source": [
        "df_2.isnull().any()"
      ],
      "execution_count": 96,
      "outputs": [
        {
          "output_type": "execute_result",
          "data": {
            "text/plain": [
              "source    False\n",
              "target    False\n",
              "dtype: bool"
            ]
          },
          "metadata": {
            "tags": []
          },
          "execution_count": 96
        }
      ]
    },
    {
      "cell_type": "code",
      "metadata": {
        "id": "eMhiLZQBxCJu"
      },
      "source": [
        "G1 = nx.Graph()\n",
        "for ind in df_1.index:\n",
        "  G1.add_edge(df_1['source'][ind], df_1['target'][ind])"
      ],
      "execution_count": 97,
      "outputs": []
    },
    {
      "cell_type": "code",
      "metadata": {
        "id": "fvPQFPBbwe_k"
      },
      "source": [
        "G2 = nx.Graph()\n",
        "for ind in df_2.index:\n",
        "  G2.add_edge(df_2['source'][ind], df_2['target'][ind])"
      ],
      "execution_count": 98,
      "outputs": []
    },
    {
      "cell_type": "code",
      "metadata": {
        "id": "P-2BQjMb1GOU",
        "colab": {
          "base_uri": "https://localhost:8080/",
          "height": 35
        },
        "outputId": "bad6a571-9dee-4a9f-de19-a90988242d3e"
      },
      "source": [
        "nx.info(G1)"
      ],
      "execution_count": 99,
      "outputs": [
        {
          "output_type": "execute_result",
          "data": {
            "application/vnd.google.colaboratory.intrinsic+json": {
              "type": "string"
            },
            "text/plain": [
              "'Name: \\nType: Graph\\nNumber of nodes: 4039\\nNumber of edges: 88234\\nAverage degree:  43.6910'"
            ]
          },
          "metadata": {
            "tags": []
          },
          "execution_count": 99
        }
      ]
    },
    {
      "cell_type": "code",
      "metadata": {
        "colab": {
          "base_uri": "https://localhost:8080/",
          "height": 35
        },
        "id": "UvTyyRybwlig",
        "outputId": "d95afe80-fc1a-4b45-b8ef-834b9d173989"
      },
      "source": [
        "nx.info(G2)"
      ],
      "execution_count": 100,
      "outputs": [
        {
          "output_type": "execute_result",
          "data": {
            "application/vnd.google.colaboratory.intrinsic+json": {
              "type": "string"
            },
            "text/plain": [
              "'Name: \\nType: Graph\\nNumber of nodes: 7624\\nNumber of edges: 27806\\nAverage degree:   7.2943'"
            ]
          },
          "metadata": {
            "tags": []
          },
          "execution_count": 100
        }
      ]
    },
    {
      "cell_type": "code",
      "metadata": {
        "id": "JLvEW-XR189u",
        "colab": {
          "base_uri": "https://localhost:8080/"
        },
        "outputId": "6e6e9fcb-704d-4a3f-fb73-ef2df651c94e"
      },
      "source": [
        "nx.is_connected(G1)"
      ],
      "execution_count": 101,
      "outputs": [
        {
          "output_type": "execute_result",
          "data": {
            "text/plain": [
              "True"
            ]
          },
          "metadata": {
            "tags": []
          },
          "execution_count": 101
        }
      ]
    },
    {
      "cell_type": "code",
      "metadata": {
        "colab": {
          "base_uri": "https://localhost:8080/"
        },
        "id": "VRoEzEY8wpdy",
        "outputId": "e7938e77-eee0-4962-8441-143213e99f65"
      },
      "source": [
        "nx.is_connected(G2)"
      ],
      "execution_count": 102,
      "outputs": [
        {
          "output_type": "execute_result",
          "data": {
            "text/plain": [
              "True"
            ]
          },
          "metadata": {
            "tags": []
          },
          "execution_count": 102
        }
      ]
    },
    {
      "cell_type": "code",
      "metadata": {
        "id": "XR4W8r0p_gt6"
      },
      "source": [
        "from networkx.algorithms.centrality import degree_centrality, eigenvector_centrality_numpy \n",
        "from networkx.algorithms.centrality import katz_centrality_numpy, closeness_centrality, betweenness_centrality"
      ],
      "execution_count": 103,
      "outputs": []
    },
    {
      "cell_type": "code",
      "metadata": {
        "id": "YNxrrVuW-ej3"
      },
      "source": [
        "degree_centrality_dict = degree_centrality(G1)\n",
        "eigenvector_centrality_dict = eigenvector_centrality_numpy(G1)\n",
        "katz_centrality_dict = katz_centrality_numpy(G1)\n",
        "closeness_centrality_dict = closeness_centrality(G1)\n",
        "betweenness_centrality_dict = betweenness_centrality(G1)\n",
        "pagerank_centraliy_dict = nx.pagerank_numpy(G1)\n",
        "\n",
        "df_1_centrality = ({'Node' : [node for node in G1.nodes()],\n",
        "                  'Degree_Centrality' : [degree_centrality_dict[node] for node in G1.nodes()],\n",
        "                  'Closeness_Centrality' : [closeness_centrality_dict[node] for node in G1.nodes()],\n",
        "                  'Betweenness_Centrality' : [betweenness_centrality_dict[node] for node in G1.nodes()],\n",
        "                  'Eigenvector_Centrality' : [eigenvector_centrality_dict[node] for node in G1.nodes()],\n",
        "                  'Katz_Centrality' : [katz_centrality_dict[node] for node in G1.nodes()],\n",
        "                  'PageRank_Centrality' : [pagerank_centraliy_dict[node] for node in G1.nodes()]\n",
        "})"
      ],
      "execution_count": 104,
      "outputs": []
    },
    {
      "cell_type": "code",
      "metadata": {
        "id": "nhCDOVblwxfB"
      },
      "source": [
        "degree_centrality_dict = degree_centrality(G2)\n",
        "eigenvector_centrality_dict = eigenvector_centrality_numpy(G2)\n",
        "katz_centrality_dict = katz_centrality_numpy(G2)\n",
        "closeness_centrality_dict = closeness_centrality(G2)\n",
        "betweenness_centrality_dict = betweenness_centrality(G2)\n",
        "pagerank_centraliy_dict = nx.pagerank_numpy(G2)\n",
        "\n",
        "df_2_centrality = ({'Node' : [node for node in G2.nodes()],\n",
        "                  'Degree_Centrality' : [degree_centrality_dict[node] for node in G2.nodes()],\n",
        "                  'Closeness_Centrality' : [closeness_centrality_dict[node] for node in G2.nodes()],\n",
        "                  'Betweenness_Centrality' : [betweenness_centrality_dict[node] for node in G2.nodes()],\n",
        "                  'Eigenvector_Centrality' : [eigenvector_centrality_dict[node] for node in G2.nodes()],\n",
        "                  'Katz_Centrality' : [katz_centrality_dict[node] for node in G2.nodes()],\n",
        "                  'PageRank_Centrality' : [pagerank_centraliy_dict[node] for node in G2.nodes()]\n",
        "})"
      ],
      "execution_count": 105,
      "outputs": []
    },
    {
      "cell_type": "code",
      "metadata": {
        "id": "SfkyQDvsBH9L"
      },
      "source": [
        "df_1_centrality = pd.DataFrame.from_dict(df_1_centrality)"
      ],
      "execution_count": 106,
      "outputs": []
    },
    {
      "cell_type": "code",
      "metadata": {
        "id": "LhksUUP7xe10"
      },
      "source": [
        "df_2_centrality = pd.DataFrame.from_dict(df_2_centrality)"
      ],
      "execution_count": 107,
      "outputs": []
    },
    {
      "cell_type": "code",
      "metadata": {
        "colab": {
          "base_uri": "https://localhost:8080/",
          "height": 204
        },
        "id": "LoGGexxSNvZq",
        "outputId": "312c54cc-c48e-4452-ed78-fd752d70d590"
      },
      "source": [
        "df_1_centrality.head()"
      ],
      "execution_count": 108,
      "outputs": [
        {
          "output_type": "execute_result",
          "data": {
            "text/html": [
              "<div>\n",
              "<style scoped>\n",
              "    .dataframe tbody tr th:only-of-type {\n",
              "        vertical-align: middle;\n",
              "    }\n",
              "\n",
              "    .dataframe tbody tr th {\n",
              "        vertical-align: top;\n",
              "    }\n",
              "\n",
              "    .dataframe thead th {\n",
              "        text-align: right;\n",
              "    }\n",
              "</style>\n",
              "<table border=\"1\" class=\"dataframe\">\n",
              "  <thead>\n",
              "    <tr style=\"text-align: right;\">\n",
              "      <th></th>\n",
              "      <th>Node</th>\n",
              "      <th>Degree_Centrality</th>\n",
              "      <th>Closeness_Centrality</th>\n",
              "      <th>Betweenness_Centrality</th>\n",
              "      <th>Eigenvector_Centrality</th>\n",
              "      <th>Katz_Centrality</th>\n",
              "      <th>PageRank_Centrality</th>\n",
              "    </tr>\n",
              "  </thead>\n",
              "  <tbody>\n",
              "    <tr>\n",
              "      <th>0</th>\n",
              "      <td>0</td>\n",
              "      <td>0.085934</td>\n",
              "      <td>0.353343</td>\n",
              "      <td>1.463059e-01</td>\n",
              "      <td>3.313350e-05</td>\n",
              "      <td>0.043520</td>\n",
              "      <td>0.006225</td>\n",
              "    </tr>\n",
              "    <tr>\n",
              "      <th>1</th>\n",
              "      <td>1</td>\n",
              "      <td>0.004210</td>\n",
              "      <td>0.261376</td>\n",
              "      <td>2.783274e-06</td>\n",
              "      <td>5.970601e-07</td>\n",
              "      <td>0.003200</td>\n",
              "      <td>0.000236</td>\n",
              "    </tr>\n",
              "    <tr>\n",
              "      <th>2</th>\n",
              "      <td>2</td>\n",
              "      <td>0.002476</td>\n",
              "      <td>0.261258</td>\n",
              "      <td>7.595021e-08</td>\n",
              "      <td>2.165775e-07</td>\n",
              "      <td>-0.002886</td>\n",
              "      <td>0.000199</td>\n",
              "    </tr>\n",
              "    <tr>\n",
              "      <th>3</th>\n",
              "      <td>3</td>\n",
              "      <td>0.004210</td>\n",
              "      <td>0.261376</td>\n",
              "      <td>1.685066e-06</td>\n",
              "      <td>6.559843e-07</td>\n",
              "      <td>-0.005344</td>\n",
              "      <td>0.000226</td>\n",
              "    </tr>\n",
              "    <tr>\n",
              "      <th>4</th>\n",
              "      <td>4</td>\n",
              "      <td>0.002476</td>\n",
              "      <td>0.261258</td>\n",
              "      <td>1.840332e-07</td>\n",
              "      <td>2.169066e-07</td>\n",
              "      <td>0.006269</td>\n",
              "      <td>0.000233</td>\n",
              "    </tr>\n",
              "  </tbody>\n",
              "</table>\n",
              "</div>"
            ],
            "text/plain": [
              "   Node  Degree_Centrality  ...  Katz_Centrality  PageRank_Centrality\n",
              "0     0           0.085934  ...         0.043520             0.006225\n",
              "1     1           0.004210  ...         0.003200             0.000236\n",
              "2     2           0.002476  ...        -0.002886             0.000199\n",
              "3     3           0.004210  ...        -0.005344             0.000226\n",
              "4     4           0.002476  ...         0.006269             0.000233\n",
              "\n",
              "[5 rows x 7 columns]"
            ]
          },
          "metadata": {
            "tags": []
          },
          "execution_count": 108
        }
      ]
    },
    {
      "cell_type": "code",
      "metadata": {
        "colab": {
          "base_uri": "https://localhost:8080/",
          "height": 204
        },
        "id": "DkqkKEFQxlUt",
        "outputId": "41be0edf-42ac-4b0a-e092-5b32f7ad3e6a"
      },
      "source": [
        "df_2_centrality.head()"
      ],
      "execution_count": 109,
      "outputs": [
        {
          "output_type": "execute_result",
          "data": {
            "text/html": [
              "<div>\n",
              "<style scoped>\n",
              "    .dataframe tbody tr th:only-of-type {\n",
              "        vertical-align: middle;\n",
              "    }\n",
              "\n",
              "    .dataframe tbody tr th {\n",
              "        vertical-align: top;\n",
              "    }\n",
              "\n",
              "    .dataframe thead th {\n",
              "        text-align: right;\n",
              "    }\n",
              "</style>\n",
              "<table border=\"1\" class=\"dataframe\">\n",
              "  <thead>\n",
              "    <tr style=\"text-align: right;\">\n",
              "      <th></th>\n",
              "      <th>Node</th>\n",
              "      <th>Degree_Centrality</th>\n",
              "      <th>Closeness_Centrality</th>\n",
              "      <th>Betweenness_Centrality</th>\n",
              "      <th>Eigenvector_Centrality</th>\n",
              "      <th>Katz_Centrality</th>\n",
              "      <th>PageRank_Centrality</th>\n",
              "    </tr>\n",
              "  </thead>\n",
              "  <tbody>\n",
              "    <tr>\n",
              "      <th>0</th>\n",
              "      <td>0</td>\n",
              "      <td>0.000131</td>\n",
              "      <td>0.176929</td>\n",
              "      <td>0.000000</td>\n",
              "      <td>0.000002</td>\n",
              "      <td>0.001949</td>\n",
              "      <td>0.000034</td>\n",
              "    </tr>\n",
              "    <tr>\n",
              "      <th>1</th>\n",
              "      <td>747</td>\n",
              "      <td>0.001049</td>\n",
              "      <td>0.214956</td>\n",
              "      <td>0.000367</td>\n",
              "      <td>0.000061</td>\n",
              "      <td>0.001377</td>\n",
              "      <td>0.000137</td>\n",
              "    </tr>\n",
              "    <tr>\n",
              "      <th>2</th>\n",
              "      <td>1</td>\n",
              "      <td>0.001312</td>\n",
              "      <td>0.210621</td>\n",
              "      <td>0.002306</td>\n",
              "      <td>0.000131</td>\n",
              "      <td>-0.003880</td>\n",
              "      <td>0.000210</td>\n",
              "    </tr>\n",
              "    <tr>\n",
              "      <th>3</th>\n",
              "      <td>4257</td>\n",
              "      <td>0.003542</td>\n",
              "      <td>0.219525</td>\n",
              "      <td>0.004210</td>\n",
              "      <td>0.000044</td>\n",
              "      <td>-0.008615</td>\n",
              "      <td>0.000631</td>\n",
              "    </tr>\n",
              "    <tr>\n",
              "      <th>4</th>\n",
              "      <td>2194</td>\n",
              "      <td>0.003017</td>\n",
              "      <td>0.213249</td>\n",
              "      <td>0.001319</td>\n",
              "      <td>0.000421</td>\n",
              "      <td>0.007636</td>\n",
              "      <td>0.000340</td>\n",
              "    </tr>\n",
              "  </tbody>\n",
              "</table>\n",
              "</div>"
            ],
            "text/plain": [
              "   Node  Degree_Centrality  ...  Katz_Centrality  PageRank_Centrality\n",
              "0     0           0.000131  ...         0.001949             0.000034\n",
              "1   747           0.001049  ...         0.001377             0.000137\n",
              "2     1           0.001312  ...        -0.003880             0.000210\n",
              "3  4257           0.003542  ...        -0.008615             0.000631\n",
              "4  2194           0.003017  ...         0.007636             0.000340\n",
              "\n",
              "[5 rows x 7 columns]"
            ]
          },
          "metadata": {
            "tags": []
          },
          "execution_count": 109
        }
      ]
    },
    {
      "cell_type": "code",
      "metadata": {
        "colab": {
          "base_uri": "https://localhost:8080/",
          "height": 297
        },
        "id": "oxAwU34ixppJ",
        "outputId": "68b7ee86-c388-4588-86e0-70a27a439e09"
      },
      "source": [
        "df_1_centrality.describe()"
      ],
      "execution_count": 110,
      "outputs": [
        {
          "output_type": "execute_result",
          "data": {
            "text/html": [
              "<div>\n",
              "<style scoped>\n",
              "    .dataframe tbody tr th:only-of-type {\n",
              "        vertical-align: middle;\n",
              "    }\n",
              "\n",
              "    .dataframe tbody tr th {\n",
              "        vertical-align: top;\n",
              "    }\n",
              "\n",
              "    .dataframe thead th {\n",
              "        text-align: right;\n",
              "    }\n",
              "</style>\n",
              "<table border=\"1\" class=\"dataframe\">\n",
              "  <thead>\n",
              "    <tr style=\"text-align: right;\">\n",
              "      <th></th>\n",
              "      <th>Node</th>\n",
              "      <th>Degree_Centrality</th>\n",
              "      <th>Closeness_Centrality</th>\n",
              "      <th>Betweenness_Centrality</th>\n",
              "      <th>Eigenvector_Centrality</th>\n",
              "      <th>Katz_Centrality</th>\n",
              "      <th>PageRank_Centrality</th>\n",
              "    </tr>\n",
              "  </thead>\n",
              "  <tbody>\n",
              "    <tr>\n",
              "      <th>count</th>\n",
              "      <td>4039.000000</td>\n",
              "      <td>4039.000000</td>\n",
              "      <td>4039.000000</td>\n",
              "      <td>4.039000e+03</td>\n",
              "      <td>4.039000e+03</td>\n",
              "      <td>4039.000000</td>\n",
              "      <td>4039.000000</td>\n",
              "    </tr>\n",
              "    <tr>\n",
              "      <th>mean</th>\n",
              "      <td>2019.000000</td>\n",
              "      <td>0.010820</td>\n",
              "      <td>0.276168</td>\n",
              "      <td>6.669574e-04</td>\n",
              "      <td>3.861377e-03</td>\n",
              "      <td>0.000708</td>\n",
              "      <td>0.000248</td>\n",
              "    </tr>\n",
              "    <tr>\n",
              "      <th>std</th>\n",
              "      <td>1166.103197</td>\n",
              "      <td>0.012982</td>\n",
              "      <td>0.036124</td>\n",
              "      <td>1.164634e-02</td>\n",
              "      <td>1.525560e-02</td>\n",
              "      <td>0.015721</td>\n",
              "      <td>0.000258</td>\n",
              "    </tr>\n",
              "    <tr>\n",
              "      <th>min</th>\n",
              "      <td>0.000000</td>\n",
              "      <td>0.000248</td>\n",
              "      <td>0.178255</td>\n",
              "      <td>0.000000e+00</td>\n",
              "      <td>3.634678e-14</td>\n",
              "      <td>-0.099580</td>\n",
              "      <td>0.000041</td>\n",
              "    </tr>\n",
              "    <tr>\n",
              "      <th>25%</th>\n",
              "      <td>1009.500000</td>\n",
              "      <td>0.002724</td>\n",
              "      <td>0.260348</td>\n",
              "      <td>3.997507e-07</td>\n",
              "      <td>4.372482e-08</td>\n",
              "      <td>-0.004550</td>\n",
              "      <td>0.000141</td>\n",
              "    </tr>\n",
              "    <tr>\n",
              "      <th>50%</th>\n",
              "      <td>2019.000000</td>\n",
              "      <td>0.006191</td>\n",
              "      <td>0.282457</td>\n",
              "      <td>2.918300e-06</td>\n",
              "      <td>8.273741e-07</td>\n",
              "      <td>0.000508</td>\n",
              "      <td>0.000218</td>\n",
              "    </tr>\n",
              "    <tr>\n",
              "      <th>75%</th>\n",
              "      <td>3028.500000</td>\n",
              "      <td>0.014116</td>\n",
              "      <td>0.315001</td>\n",
              "      <td>1.515292e-05</td>\n",
              "      <td>1.097124e-05</td>\n",
              "      <td>0.005838</td>\n",
              "      <td>0.000310</td>\n",
              "    </tr>\n",
              "    <tr>\n",
              "      <th>max</th>\n",
              "      <td>4038.000000</td>\n",
              "      <td>0.258791</td>\n",
              "      <td>0.459699</td>\n",
              "      <td>4.805181e-01</td>\n",
              "      <td>9.540586e-02</td>\n",
              "      <td>0.106398</td>\n",
              "      <td>0.007575</td>\n",
              "    </tr>\n",
              "  </tbody>\n",
              "</table>\n",
              "</div>"
            ],
            "text/plain": [
              "              Node  Degree_Centrality  ...  Katz_Centrality  PageRank_Centrality\n",
              "count  4039.000000        4039.000000  ...      4039.000000          4039.000000\n",
              "mean   2019.000000           0.010820  ...         0.000708             0.000248\n",
              "std    1166.103197           0.012982  ...         0.015721             0.000258\n",
              "min       0.000000           0.000248  ...        -0.099580             0.000041\n",
              "25%    1009.500000           0.002724  ...        -0.004550             0.000141\n",
              "50%    2019.000000           0.006191  ...         0.000508             0.000218\n",
              "75%    3028.500000           0.014116  ...         0.005838             0.000310\n",
              "max    4038.000000           0.258791  ...         0.106398             0.007575\n",
              "\n",
              "[8 rows x 7 columns]"
            ]
          },
          "metadata": {
            "tags": []
          },
          "execution_count": 110
        }
      ]
    },
    {
      "cell_type": "code",
      "metadata": {
        "id": "CwvgefnpTWv_",
        "colab": {
          "base_uri": "https://localhost:8080/",
          "height": 297
        },
        "outputId": "eef102ac-bb7e-4e4f-9146-695329de8fca"
      },
      "source": [
        "df_2_centrality.describe()"
      ],
      "execution_count": 111,
      "outputs": [
        {
          "output_type": "execute_result",
          "data": {
            "text/html": [
              "<div>\n",
              "<style scoped>\n",
              "    .dataframe tbody tr th:only-of-type {\n",
              "        vertical-align: middle;\n",
              "    }\n",
              "\n",
              "    .dataframe tbody tr th {\n",
              "        vertical-align: top;\n",
              "    }\n",
              "\n",
              "    .dataframe thead th {\n",
              "        text-align: right;\n",
              "    }\n",
              "</style>\n",
              "<table border=\"1\" class=\"dataframe\">\n",
              "  <thead>\n",
              "    <tr style=\"text-align: right;\">\n",
              "      <th></th>\n",
              "      <th>Node</th>\n",
              "      <th>Degree_Centrality</th>\n",
              "      <th>Closeness_Centrality</th>\n",
              "      <th>Betweenness_Centrality</th>\n",
              "      <th>Eigenvector_Centrality</th>\n",
              "      <th>Katz_Centrality</th>\n",
              "      <th>PageRank_Centrality</th>\n",
              "    </tr>\n",
              "  </thead>\n",
              "  <tbody>\n",
              "    <tr>\n",
              "      <th>count</th>\n",
              "      <td>7624.000000</td>\n",
              "      <td>7624.000000</td>\n",
              "      <td>7624.000000</td>\n",
              "      <td>7624.000000</td>\n",
              "      <td>7.624000e+03</td>\n",
              "      <td>7624.000000</td>\n",
              "      <td>7624.000000</td>\n",
              "    </tr>\n",
              "    <tr>\n",
              "      <th>mean</th>\n",
              "      <td>3811.500000</td>\n",
              "      <td>0.000957</td>\n",
              "      <td>0.194386</td>\n",
              "      <td>0.000555</td>\n",
              "      <td>1.958260e-03</td>\n",
              "      <td>0.001318</td>\n",
              "      <td>0.000131</td>\n",
              "    </tr>\n",
              "    <tr>\n",
              "      <th>std</th>\n",
              "      <td>2201.003559</td>\n",
              "      <td>0.001509</td>\n",
              "      <td>0.024479</td>\n",
              "      <td>0.002725</td>\n",
              "      <td>1.128480e-02</td>\n",
              "      <td>0.011377</td>\n",
              "      <td>0.000159</td>\n",
              "    </tr>\n",
              "    <tr>\n",
              "      <th>min</th>\n",
              "      <td>0.000000</td>\n",
              "      <td>0.000131</td>\n",
              "      <td>0.100416</td>\n",
              "      <td>0.000000</td>\n",
              "      <td>1.149938e-13</td>\n",
              "      <td>-0.140029</td>\n",
              "      <td>0.000029</td>\n",
              "    </tr>\n",
              "    <tr>\n",
              "      <th>25%</th>\n",
              "      <td>1905.750000</td>\n",
              "      <td>0.000262</td>\n",
              "      <td>0.178252</td>\n",
              "      <td>0.000000</td>\n",
              "      <td>3.357763e-06</td>\n",
              "      <td>-0.000729</td>\n",
              "      <td>0.000051</td>\n",
              "    </tr>\n",
              "    <tr>\n",
              "      <th>50%</th>\n",
              "      <td>3811.500000</td>\n",
              "      <td>0.000525</td>\n",
              "      <td>0.195532</td>\n",
              "      <td>0.000039</td>\n",
              "      <td>2.611458e-05</td>\n",
              "      <td>0.002000</td>\n",
              "      <td>0.000086</td>\n",
              "    </tr>\n",
              "    <tr>\n",
              "      <th>75%</th>\n",
              "      <td>5717.250000</td>\n",
              "      <td>0.001049</td>\n",
              "      <td>0.211225</td>\n",
              "      <td>0.000356</td>\n",
              "      <td>1.982745e-04</td>\n",
              "      <td>0.003983</td>\n",
              "      <td>0.000151</td>\n",
              "    </tr>\n",
              "    <tr>\n",
              "      <th>max</th>\n",
              "      <td>7623.000000</td>\n",
              "      <td>0.028335</td>\n",
              "      <td>0.290710</td>\n",
              "      <td>0.089931</td>\n",
              "      <td>2.561335e-01</td>\n",
              "      <td>0.121872</td>\n",
              "      <td>0.003271</td>\n",
              "    </tr>\n",
              "  </tbody>\n",
              "</table>\n",
              "</div>"
            ],
            "text/plain": [
              "              Node  Degree_Centrality  ...  Katz_Centrality  PageRank_Centrality\n",
              "count  7624.000000        7624.000000  ...      7624.000000          7624.000000\n",
              "mean   3811.500000           0.000957  ...         0.001318             0.000131\n",
              "std    2201.003559           0.001509  ...         0.011377             0.000159\n",
              "min       0.000000           0.000131  ...        -0.140029             0.000029\n",
              "25%    1905.750000           0.000262  ...        -0.000729             0.000051\n",
              "50%    3811.500000           0.000525  ...         0.002000             0.000086\n",
              "75%    5717.250000           0.001049  ...         0.003983             0.000151\n",
              "max    7623.000000           0.028335  ...         0.121872             0.003271\n",
              "\n",
              "[8 rows x 7 columns]"
            ]
          },
          "metadata": {
            "tags": []
          },
          "execution_count": 111
        }
      ]
    },
    {
      "cell_type": "code",
      "metadata": {
        "id": "YZUW1LDqY5P4"
      },
      "source": [
        "from networkx.algorithms import transitivity, overall_reciprocity, clustering, average_clustering"
      ],
      "execution_count": 112,
      "outputs": []
    },
    {
      "cell_type": "code",
      "metadata": {
        "id": "qkXL9b83XpSJ"
      },
      "source": [
        "clustering_coeff_dict = clustering(G1)\n",
        "\n",
        "df_1_clustering = ({'Node' : [node for node in G1.nodes()],\n",
        "                  'Clustering_Coeff' : [clustering_coeff_dict[node] for node in G1.nodes()]\n",
        "})"
      ],
      "execution_count": 113,
      "outputs": []
    },
    {
      "cell_type": "code",
      "metadata": {
        "id": "rX2kxMXtxvD_"
      },
      "source": [
        "clustering_coeff_dict = clustering(G2)\n",
        "\n",
        "df_2_clustering = ({'Node' : [node for node in G2.nodes()],\n",
        "                  'Clustering_Coeff' : [clustering_coeff_dict[node] for node in G2.nodes()]\n",
        "})"
      ],
      "execution_count": 114,
      "outputs": []
    },
    {
      "cell_type": "code",
      "metadata": {
        "id": "kr9aAhErZYVl"
      },
      "source": [
        "df_1_clustering = pd.DataFrame.from_dict(df_1_clustering)"
      ],
      "execution_count": 115,
      "outputs": []
    },
    {
      "cell_type": "code",
      "metadata": {
        "id": "wXnDQPkHyBqq"
      },
      "source": [
        "df_2_clustering = pd.DataFrame.from_dict(df_2_clustering)"
      ],
      "execution_count": 116,
      "outputs": []
    },
    {
      "cell_type": "code",
      "metadata": {
        "colab": {
          "base_uri": "https://localhost:8080/",
          "height": 204
        },
        "id": "5EBImayqyC-T",
        "outputId": "2aad316a-23f6-4f6d-aed7-d1f72e5d925d"
      },
      "source": [
        "df_1_clustering.head()"
      ],
      "execution_count": 117,
      "outputs": [
        {
          "output_type": "execute_result",
          "data": {
            "text/html": [
              "<div>\n",
              "<style scoped>\n",
              "    .dataframe tbody tr th:only-of-type {\n",
              "        vertical-align: middle;\n",
              "    }\n",
              "\n",
              "    .dataframe tbody tr th {\n",
              "        vertical-align: top;\n",
              "    }\n",
              "\n",
              "    .dataframe thead th {\n",
              "        text-align: right;\n",
              "    }\n",
              "</style>\n",
              "<table border=\"1\" class=\"dataframe\">\n",
              "  <thead>\n",
              "    <tr style=\"text-align: right;\">\n",
              "      <th></th>\n",
              "      <th>Node</th>\n",
              "      <th>Clustering_Coeff</th>\n",
              "    </tr>\n",
              "  </thead>\n",
              "  <tbody>\n",
              "    <tr>\n",
              "      <th>0</th>\n",
              "      <td>0</td>\n",
              "      <td>0.041962</td>\n",
              "    </tr>\n",
              "    <tr>\n",
              "      <th>1</th>\n",
              "      <td>1</td>\n",
              "      <td>0.419118</td>\n",
              "    </tr>\n",
              "    <tr>\n",
              "      <th>2</th>\n",
              "      <td>2</td>\n",
              "      <td>0.888889</td>\n",
              "    </tr>\n",
              "    <tr>\n",
              "      <th>3</th>\n",
              "      <td>3</td>\n",
              "      <td>0.632353</td>\n",
              "    </tr>\n",
              "    <tr>\n",
              "      <th>4</th>\n",
              "      <td>4</td>\n",
              "      <td>0.866667</td>\n",
              "    </tr>\n",
              "  </tbody>\n",
              "</table>\n",
              "</div>"
            ],
            "text/plain": [
              "   Node  Clustering_Coeff\n",
              "0     0          0.041962\n",
              "1     1          0.419118\n",
              "2     2          0.888889\n",
              "3     3          0.632353\n",
              "4     4          0.866667"
            ]
          },
          "metadata": {
            "tags": []
          },
          "execution_count": 117
        }
      ]
    },
    {
      "cell_type": "code",
      "metadata": {
        "colab": {
          "base_uri": "https://localhost:8080/",
          "height": 204
        },
        "id": "zTcooJN-Zg7V",
        "outputId": "956fa6f8-a5f1-4298-a80a-baa158d20364"
      },
      "source": [
        "df_2_clustering.head()"
      ],
      "execution_count": 118,
      "outputs": [
        {
          "output_type": "execute_result",
          "data": {
            "text/html": [
              "<div>\n",
              "<style scoped>\n",
              "    .dataframe tbody tr th:only-of-type {\n",
              "        vertical-align: middle;\n",
              "    }\n",
              "\n",
              "    .dataframe tbody tr th {\n",
              "        vertical-align: top;\n",
              "    }\n",
              "\n",
              "    .dataframe thead th {\n",
              "        text-align: right;\n",
              "    }\n",
              "</style>\n",
              "<table border=\"1\" class=\"dataframe\">\n",
              "  <thead>\n",
              "    <tr style=\"text-align: right;\">\n",
              "      <th></th>\n",
              "      <th>Node</th>\n",
              "      <th>Clustering_Coeff</th>\n",
              "    </tr>\n",
              "  </thead>\n",
              "  <tbody>\n",
              "    <tr>\n",
              "      <th>0</th>\n",
              "      <td>0</td>\n",
              "      <td>0.000000</td>\n",
              "    </tr>\n",
              "    <tr>\n",
              "      <th>1</th>\n",
              "      <td>747</td>\n",
              "      <td>0.250000</td>\n",
              "    </tr>\n",
              "    <tr>\n",
              "      <th>2</th>\n",
              "      <td>1</td>\n",
              "      <td>0.022222</td>\n",
              "    </tr>\n",
              "    <tr>\n",
              "      <th>3</th>\n",
              "      <td>4257</td>\n",
              "      <td>0.045584</td>\n",
              "    </tr>\n",
              "    <tr>\n",
              "      <th>4</th>\n",
              "      <td>2194</td>\n",
              "      <td>0.225296</td>\n",
              "    </tr>\n",
              "  </tbody>\n",
              "</table>\n",
              "</div>"
            ],
            "text/plain": [
              "   Node  Clustering_Coeff\n",
              "0     0          0.000000\n",
              "1   747          0.250000\n",
              "2     1          0.022222\n",
              "3  4257          0.045584\n",
              "4  2194          0.225296"
            ]
          },
          "metadata": {
            "tags": []
          },
          "execution_count": 118
        }
      ]
    },
    {
      "cell_type": "code",
      "metadata": {
        "colab": {
          "base_uri": "https://localhost:8080/",
          "height": 297
        },
        "id": "OTyUAwyayHHl",
        "outputId": "24117036-6325-4841-feea-31555f2e7d0f"
      },
      "source": [
        "df_1_clustering.describe()"
      ],
      "execution_count": 119,
      "outputs": [
        {
          "output_type": "execute_result",
          "data": {
            "text/html": [
              "<div>\n",
              "<style scoped>\n",
              "    .dataframe tbody tr th:only-of-type {\n",
              "        vertical-align: middle;\n",
              "    }\n",
              "\n",
              "    .dataframe tbody tr th {\n",
              "        vertical-align: top;\n",
              "    }\n",
              "\n",
              "    .dataframe thead th {\n",
              "        text-align: right;\n",
              "    }\n",
              "</style>\n",
              "<table border=\"1\" class=\"dataframe\">\n",
              "  <thead>\n",
              "    <tr style=\"text-align: right;\">\n",
              "      <th></th>\n",
              "      <th>Node</th>\n",
              "      <th>Clustering_Coeff</th>\n",
              "    </tr>\n",
              "  </thead>\n",
              "  <tbody>\n",
              "    <tr>\n",
              "      <th>count</th>\n",
              "      <td>4039.000000</td>\n",
              "      <td>4039.000000</td>\n",
              "    </tr>\n",
              "    <tr>\n",
              "      <th>mean</th>\n",
              "      <td>2019.000000</td>\n",
              "      <td>0.605547</td>\n",
              "    </tr>\n",
              "    <tr>\n",
              "      <th>std</th>\n",
              "      <td>1166.103197</td>\n",
              "      <td>0.214462</td>\n",
              "    </tr>\n",
              "    <tr>\n",
              "      <th>min</th>\n",
              "      <td>0.000000</td>\n",
              "      <td>0.000000</td>\n",
              "    </tr>\n",
              "    <tr>\n",
              "      <th>25%</th>\n",
              "      <td>1009.500000</td>\n",
              "      <td>0.466667</td>\n",
              "    </tr>\n",
              "    <tr>\n",
              "      <th>50%</th>\n",
              "      <td>2019.000000</td>\n",
              "      <td>0.600000</td>\n",
              "    </tr>\n",
              "    <tr>\n",
              "      <th>75%</th>\n",
              "      <td>3028.500000</td>\n",
              "      <td>0.752381</td>\n",
              "    </tr>\n",
              "    <tr>\n",
              "      <th>max</th>\n",
              "      <td>4038.000000</td>\n",
              "      <td>1.000000</td>\n",
              "    </tr>\n",
              "  </tbody>\n",
              "</table>\n",
              "</div>"
            ],
            "text/plain": [
              "              Node  Clustering_Coeff\n",
              "count  4039.000000       4039.000000\n",
              "mean   2019.000000          0.605547\n",
              "std    1166.103197          0.214462\n",
              "min       0.000000          0.000000\n",
              "25%    1009.500000          0.466667\n",
              "50%    2019.000000          0.600000\n",
              "75%    3028.500000          0.752381\n",
              "max    4038.000000          1.000000"
            ]
          },
          "metadata": {
            "tags": []
          },
          "execution_count": 119
        }
      ]
    },
    {
      "cell_type": "code",
      "metadata": {
        "colab": {
          "base_uri": "https://localhost:8080/",
          "height": 297
        },
        "id": "0TCXJF6BZkdw",
        "outputId": "8a83de81-9949-40b2-dd2c-e1837418f25e"
      },
      "source": [
        "df_2_clustering.describe()"
      ],
      "execution_count": 120,
      "outputs": [
        {
          "output_type": "execute_result",
          "data": {
            "text/html": [
              "<div>\n",
              "<style scoped>\n",
              "    .dataframe tbody tr th:only-of-type {\n",
              "        vertical-align: middle;\n",
              "    }\n",
              "\n",
              "    .dataframe tbody tr th {\n",
              "        vertical-align: top;\n",
              "    }\n",
              "\n",
              "    .dataframe thead th {\n",
              "        text-align: right;\n",
              "    }\n",
              "</style>\n",
              "<table border=\"1\" class=\"dataframe\">\n",
              "  <thead>\n",
              "    <tr style=\"text-align: right;\">\n",
              "      <th></th>\n",
              "      <th>Node</th>\n",
              "      <th>Clustering_Coeff</th>\n",
              "    </tr>\n",
              "  </thead>\n",
              "  <tbody>\n",
              "    <tr>\n",
              "      <th>count</th>\n",
              "      <td>7624.000000</td>\n",
              "      <td>7624.000000</td>\n",
              "    </tr>\n",
              "    <tr>\n",
              "      <th>mean</th>\n",
              "      <td>3811.500000</td>\n",
              "      <td>0.219418</td>\n",
              "    </tr>\n",
              "    <tr>\n",
              "      <th>std</th>\n",
              "      <td>2201.003559</td>\n",
              "      <td>0.287520</td>\n",
              "    </tr>\n",
              "    <tr>\n",
              "      <th>min</th>\n",
              "      <td>0.000000</td>\n",
              "      <td>0.000000</td>\n",
              "    </tr>\n",
              "    <tr>\n",
              "      <th>25%</th>\n",
              "      <td>1905.750000</td>\n",
              "      <td>0.000000</td>\n",
              "    </tr>\n",
              "    <tr>\n",
              "      <th>50%</th>\n",
              "      <td>3811.500000</td>\n",
              "      <td>0.100000</td>\n",
              "    </tr>\n",
              "    <tr>\n",
              "      <th>75%</th>\n",
              "      <td>5717.250000</td>\n",
              "      <td>0.333333</td>\n",
              "    </tr>\n",
              "    <tr>\n",
              "      <th>max</th>\n",
              "      <td>7623.000000</td>\n",
              "      <td>1.000000</td>\n",
              "    </tr>\n",
              "  </tbody>\n",
              "</table>\n",
              "</div>"
            ],
            "text/plain": [
              "              Node  Clustering_Coeff\n",
              "count  7624.000000       7624.000000\n",
              "mean   3811.500000          0.219418\n",
              "std    2201.003559          0.287520\n",
              "min       0.000000          0.000000\n",
              "25%    1905.750000          0.000000\n",
              "50%    3811.500000          0.100000\n",
              "75%    5717.250000          0.333333\n",
              "max    7623.000000          1.000000"
            ]
          },
          "metadata": {
            "tags": []
          },
          "execution_count": 120
        }
      ]
    },
    {
      "cell_type": "code",
      "metadata": {
        "colab": {
          "base_uri": "https://localhost:8080/"
        },
        "id": "mt2TzE-hZ581",
        "outputId": "be2c0334-b9e8-4001-c5e6-766a4e0d8a2a"
      },
      "source": [
        "print('ACC of our network1 is : ', average_clustering(G1))"
      ],
      "execution_count": 121,
      "outputs": [
        {
          "output_type": "stream",
          "text": [
            "ACC of our network1 is :  0.6055467186200876\n"
          ],
          "name": "stdout"
        }
      ]
    },
    {
      "cell_type": "code",
      "metadata": {
        "colab": {
          "base_uri": "https://localhost:8080/"
        },
        "id": "hrr-19OMyQE2",
        "outputId": "96cfa329-9f90-488c-adb3-01106995041c"
      },
      "source": [
        "print('ACC of our network2 is : ', average_clustering(G2))"
      ],
      "execution_count": 122,
      "outputs": [
        {
          "output_type": "stream",
          "text": [
            "ACC of our network2 is :  0.2194184243270858\n"
          ],
          "name": "stdout"
        }
      ]
    },
    {
      "cell_type": "code",
      "metadata": {
        "colab": {
          "base_uri": "https://localhost:8080/"
        },
        "id": "qtFr-qymZrNN",
        "outputId": "de518892-c445-454e-f115-0b7a9efcbc06"
      },
      "source": [
        "print('Transitivity of our network1 is : ', transitivity(G1))"
      ],
      "execution_count": 123,
      "outputs": [
        {
          "output_type": "stream",
          "text": [
            "Transitivity of our network1 is :  0.5191742775433075\n"
          ],
          "name": "stdout"
        }
      ]
    },
    {
      "cell_type": "code",
      "metadata": {
        "colab": {
          "base_uri": "https://localhost:8080/"
        },
        "id": "j-RYMAWayR2U",
        "outputId": "2b7c03ca-f6f8-4b79-ff1f-52e525502e05"
      },
      "source": [
        "print('Transitivity of our network2 is : ', transitivity(G2))"
      ],
      "execution_count": 124,
      "outputs": [
        {
          "output_type": "stream",
          "text": [
            "Transitivity of our network2 is :  0.178622548153384\n"
          ],
          "name": "stdout"
        }
      ]
    },
    {
      "cell_type": "code",
      "metadata": {
        "colab": {
          "base_uri": "https://localhost:8080/"
        },
        "id": "vRDif7HDyZSK",
        "outputId": "8f7c549c-0e49-4211-d9a5-7c4b00050fd9"
      },
      "source": [
        "print('Reciprocity of our network1 is : ', overall_reciprocity(G1))"
      ],
      "execution_count": 125,
      "outputs": [
        {
          "output_type": "stream",
          "text": [
            "Reciprocity of our network1 is :  0.0\n"
          ],
          "name": "stdout"
        }
      ]
    },
    {
      "cell_type": "code",
      "metadata": {
        "colab": {
          "base_uri": "https://localhost:8080/"
        },
        "id": "GJYQQjUpaiHw",
        "outputId": "c406b7d5-c47b-4f23-f185-a0d1b1309378"
      },
      "source": [
        "print('Reciprocity of our network2 is : ', overall_reciprocity(G2))"
      ],
      "execution_count": 126,
      "outputs": [
        {
          "output_type": "stream",
          "text": [
            "Reciprocity of our network2 is :  0.0\n"
          ],
          "name": "stdout"
        }
      ]
    },
    {
      "cell_type": "code",
      "metadata": {
        "id": "MfIdq7ElMnl6"
      },
      "source": [
        "import numpy as np\n",
        "import matplotlib.pyplot as plt\n",
        "from networkx.generators.random_graphs import erdos_renyi_graph"
      ],
      "execution_count": 127,
      "outputs": []
    },
    {
      "cell_type": "code",
      "metadata": {
        "id": "oVHe_3BJhcfK"
      },
      "source": [
        "kvals = np.linspace(0,5,51)\n",
        "N1 = len(G1.nodes())\n",
        "N_G1 = []\n",
        "\n",
        "for k in kvals:\n",
        "    G1 = erdos_renyi_graph(N1, k/N1)\n",
        "    Gcc = sorted(nx.connected_components(G1), key=len, reverse=True)\n",
        "    N_G1.append(len(Gcc[0])/N1)\n"
      ],
      "execution_count": 128,
      "outputs": []
    },
    {
      "cell_type": "code",
      "metadata": {
        "colab": {
          "base_uri": "https://localhost:8080/",
          "height": 282
        },
        "id": "UDgEerKJPud3",
        "outputId": "a0d5711d-7805-4600-967a-128e9ad77bdb"
      },
      "source": [
        "plt.plot(kvals,N_G1)"
      ],
      "execution_count": 129,
      "outputs": [
        {
          "output_type": "execute_result",
          "data": {
            "text/plain": [
              "[<matplotlib.lines.Line2D at 0x7f0e1caf48d0>]"
            ]
          },
          "metadata": {
            "tags": []
          },
          "execution_count": 129
        },
        {
          "output_type": "display_data",
          "data": {
            "image/png": "[encoded data removed]",
            "text/plain": [
              "<Figure size 432x288 with 1 Axes>"
            ]
          },
          "metadata": {
            "tags": [],
            "needs_background": "light"
          }
        }
      ]
    },
    {
      "cell_type": "code",
      "metadata": {
        "id": "0BAkDcLMzQPX"
      },
      "source": [
        "kvals = np.linspace(0,5,51)\n",
        "N2 = len(G2.nodes())\n",
        "N_G2 = []\n",
        "\n",
        "for k in kvals:\n",
        "    G2 = erdos_renyi_graph(N2, k/N2)\n",
        "    Gcc = sorted(nx.connected_components(G2), key=len, reverse=True)\n",
        "    N_G2.append(len(Gcc[0])/N2)\n"
      ],
      "execution_count": 130,
      "outputs": []
    },
    {
      "cell_type": "code",
      "metadata": {
        "colab": {
          "base_uri": "https://localhost:8080/",
          "height": 282
        },
        "id": "Oq-5iTWJzRwh",
        "outputId": "5b792e4d-eacd-464c-fe93-109124e3d90d"
      },
      "source": [
        "plt.plot(kvals,N_G2)"
      ],
      "execution_count": 131,
      "outputs": [
        {
          "output_type": "execute_result",
          "data": {
            "text/plain": [
              "[<matplotlib.lines.Line2D at 0x7f0e1d1bccd0>]"
            ]
          },
          "metadata": {
            "tags": []
          },
          "execution_count": 131
        },
        {
          "output_type": "display_data",
          "data": {
            "image/png": "[encoded data removed]",
            "text/plain": [
              "<Figure size 432x288 with 1 Axes>"
            ]
          },
          "metadata": {
            "tags": [],
            "needs_background": "light"
          }
        }
      ]
    },
    {
      "cell_type": "code",
      "metadata": {
        "id": "iXl0FmyS3Zdd"
      },
      "source": [
        ""
      ],
      "execution_count": 131,
      "outputs": []
    }
  ]
}